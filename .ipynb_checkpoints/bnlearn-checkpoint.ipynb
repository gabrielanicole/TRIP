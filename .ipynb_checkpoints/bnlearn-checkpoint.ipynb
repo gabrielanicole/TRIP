{
 "cells": [
  {
   "cell_type": "markdown",
   "metadata": {},
   "source": [
    "Instalar R y tk\n",
    "\n",
    "Instalar IRkernel: En una consola de R\n",
    "\n",
    "    install.packages('IRkernel')\n",
    "    IRkernel::installspec() \n",
    "    \n",
    "Reiniciar el servidor de jupyter, debería aparecer R en Kernel/Change kernel"
   ]
  },
  {
   "cell_type": "code",
   "execution_count": 1,
   "metadata": {},
   "outputs": [
    {
     "name": "stderr",
     "output_type": "stream",
     "text": [
      "\n",
      "Attaching package: ‘bnlearn’\n",
      "\n",
      "The following object is masked from ‘package:stats’:\n",
      "\n",
      "    sigma\n",
      "\n"
     ]
    }
   ],
   "source": [
    "library(bnlearn)"
   ]
  },
  {
   "cell_type": "markdown",
   "metadata": {},
   "source": [
    "Ejemplo de grafo vacío"
   ]
  },
  {
   "cell_type": "code",
   "execution_count": 3,
   "metadata": {},
   "outputs": [
    {
     "data": {
      "text/plain": [
       "\n",
       "  Random/Generated Bayesian network\n",
       "\n",
       "  model:\n",
       "   [A][B][C][D][E][F] \n",
       "  nodes:                                 6 \n",
       "  arcs:                                  0 \n",
       "    undirected arcs:                     0 \n",
       "    directed arcs:                       0 \n",
       "  average markov blanket size:           0.00 \n",
       "  average neighbourhood size:            0.00 \n",
       "  average branching factor:              0.00 \n",
       "\n",
       "  generation algorithm:                  Empty \n"
      ]
     },
     "metadata": {},
     "output_type": "display_data"
    }
   ],
   "source": [
    "e = empty.graph(LETTERS[1:6])\n",
    "e"
   ]
  },
  {
   "cell_type": "code",
   "execution_count": null,
   "metadata": {},
   "outputs": [],
   "source": []
  }
 ],
 "metadata": {
  "kernelspec": {
   "display_name": "R",
   "language": "R",
   "name": "ir"
  },
  "language_info": {
   "codemirror_mode": "r",
   "file_extension": ".r",
   "mimetype": "text/x-r-source",
   "name": "R",
   "pygments_lexer": "r",
   "version": "3.6.1"
  }
 },
 "nbformat": 4,
 "nbformat_minor": 2
}
